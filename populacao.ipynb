{
 "cells": [
  {
   "cell_type": "code",
   "execution_count": 1,
   "id": "67216a06",
   "metadata": {},
   "outputs": [],
   "source": [
    "import pandas as pd"
   ]
  },
  {
   "cell_type": "code",
   "execution_count": 2,
   "id": "b19e460b",
   "metadata": {},
   "outputs": [],
   "source": [
    "pop2006 = pd.read_excel('data/POPULACAO/POP2006-TCU.xls', sheet_name='P5564TCU', header=3)\n",
    "pop2008 = pd.read_excel('data/POPULACAO/POP2008_DOU.xls', sheet_name='POP08DOU', header=4)\n",
    "pop2009 = pd.read_excel('data/POPULACAO/UF_Municipio_2009.xls', sheet_name='MUNICÍPIOS', header=4)\n",
    "pop2010 = pd.read_excel('data/POPULACAO/total_populacao_para.xls', sheet_name='MUNIC_')\n",
    "pop2011 = pd.read_excel('data/POPULACAO/POP2011_DOU.xls', sheet_name='MUNICÍPIOS', header=2)\n",
    "pop2012 = pd.read_excel('data/POPULACAO/estimativa_2012_TCU_20170614.xls', sheet_name='Municípios', header=1)\n",
    "pop2013 = pd.read_excel('data/POPULACAO/estimativa_2013_TCU_20170614.xls', sheet_name='Municípios', header=1)\n",
    "pop2014 = pd.read_excel('data/POPULACAO/estimativa_TCU_2014_20170614.xls', sheet_name='Municípios', header=1)\n",
    "pop2015 = pd.read_excel('data/POPULACAO/estimativa_TCU_2015_20170614.xls', sheet_name='Municípios', header=1)\n",
    "pop2016 = pd.read_excel('data/POPULACAO/estimativa_TCU_2016_20170614.xls', sheet_name='Municípios', header=1)\n",
    "pop2017 = pd.read_excel('data/POPULACAO/POP2017_20220905.xls', sheet_name='Municípios', header=1)\n",
    "pop2018 = pd.read_excel('data/POPULACAO/POP2018_20220905.xls', sheet_name='Municípios', header=1)\n",
    "pop2019 = pd.read_excel('data/POPULACAO/POP2019_20220905.xls', sheet_name='Municípios', header=1)\n",
    "pop2020 = pd.read_excel('data/POPULACAO/POP2020_20220905.xls', sheet_name='Municípios', header=1)\n",
    "pop2021 = pd.read_excel('data/POPULACAO/POP2021_20240624.xls', sheet_name='Municípios', header=1)\n",
    "pop2022 = pd.read_excel('data/POPULACAO/POP2022_Municipios_20230622.xls', sheet_name='Municípios', header=1)\n",
    "pop2024 = pd.read_excel('data/POPULACAO/POP2024_20241230.xls', sheet_name='MUNICÍPIOS', header=1)"
   ]
  },
  {
   "cell_type": "code",
   "execution_count": null,
   "id": "833dc04d",
   "metadata": {},
   "outputs": [],
   "source": [
    "getPara2006 = lambda x: x['SIGLA'] == 'PA'\n",
    "getPara2024 = lambda x: x['UF'] == 'PA'\n",
    " \n",
    "pop2006_PA = pop2006[getPara2006]\n",
    "pop2008_PA = pop2008[getPara2006]\n",
    "pop2009_PA = pop2009[getPara2006]\n",
    "pop2010_PA = pop2010\n",
    "pop2011_PA = pop2011[getPara2024]\n",
    "pop2012_PA = pop2012[getPara2024]\n",
    "pop2013_PA = pop2013[getPara2024]\n",
    "pop2014_PA = pop2014[getPara2024]\n",
    "pop2015_PA = pop2015[getPara2024]\n",
    "pop2016_PA = pop2016[getPara2024]\n",
    "pop2017_PA = pop2017[getPara2024]\n",
    "pop2018_PA = pop2018[getPara2024]\n",
    "pop2019_PA = pop2019[getPara2024]\n",
    "pop2020_PA = pop2020[getPara2024]\n",
    "pop2021_PA = pop2021[getPara2024]\n",
    "pop2022_PA = pop2022[getPara2024]\n",
    "pop2024_PA = pop2024[getPara2024]"
   ]
  },
  {
   "cell_type": "code",
   "execution_count": 4,
   "id": "1b6e7f15",
   "metadata": {},
   "outputs": [
    {
     "data": {
      "application/vnd.microsoft.datawrangler.viewer.v0+json": {
       "columns": [
        {
         "name": "index",
         "rawType": "int64",
         "type": "integer"
        },
        {
         "name": "Código do município",
         "rawType": "object",
         "type": "string"
        },
        {
         "name": "Nome do município",
         "rawType": "object",
         "type": "string"
        },
        {
         "name": "Total da população 2000",
         "rawType": "int64",
         "type": "integer"
        },
        {
         "name": "Total de homens",
         "rawType": "int64",
         "type": "integer"
        },
        {
         "name": "Total de mulheres",
         "rawType": "int64",
         "type": "integer"
        },
        {
         "name": "Total da população urbana",
         "rawType": "int64",
         "type": "integer"
        },
        {
         "name": "Total da população rural",
         "rawType": "int64",
         "type": "integer"
        },
        {
         "name": "Total da população 2010",
         "rawType": "int64",
         "type": "integer"
        }
       ],
       "conversionMethod": "pd.DataFrame",
       "ref": "a4cb343f-44a5-401b-8c6a-77ca91287f04",
       "rows": [
        [
         "0",
         "1500107",
         "Abaetetuba",
         "119152",
         "71612",
         "69442",
         "82950",
         "58104",
         "141054"
        ],
        [
         "1",
         "1500131",
         "Abel Figueiredo",
         "5957",
         "3542",
         "3250",
         "6046",
         "746",
         "6792"
        ],
        [
         "2",
         "1500206",
         "Acará",
         "52126",
         "28139",
         "25466",
         "12625",
         "40980",
         "53605"
        ],
        [
         "3",
         "1500305",
         "Afuá",
         "29505",
         "18449",
         "16568",
         "9478",
         "25539",
         "35017"
        ],
        [
         "4",
         "1500347",
         "Água Azul do Norte",
         "22084",
         "13618",
         "11443",
         "4876",
         "20185",
         "25061"
        ],
        [
         "5",
         "1500404",
         "Alenquer",
         "41784",
         "27086",
         "25628",
         "27774",
         "24940",
         "52714"
        ],
        [
         "6",
         "1500503",
         "Almeirim",
         "33957",
         "17502",
         "16163",
         "19972",
         "13693",
         "33665"
        ],
        [
         "7",
         "1500602",
         "Altamira",
         "77439",
         "52814",
         "52216",
         "90068",
         "14962",
         "105030"
        ],
        [
         "8",
         "1500701",
         "Anajás",
         "18322",
         "12968",
         "11803",
         "9492",
         "15279",
         "24771"
        ],
        [
         "9",
         "1500800",
         "Ananindeua",
         "393569",
         "226537",
         "245207",
         "470590",
         "1154",
         "471744"
        ],
        [
         "10",
         "1500859",
         "Anapu",
         "9407",
         "10965",
         "9528",
         "9840",
         "10653",
         "20493"
        ],
        [
         "11",
         "1500909",
         "Augusto Corrêa",
         "33011",
         "20994",
         "19505",
         "18237",
         "22262",
         "40499"
        ],
        [
         "12",
         "1500958",
         "Aurora do Pará",
         "19728",
         "13630",
         "12949",
         "8174",
         "18405",
         "26579"
        ],
        [
         "13",
         "1501006",
         "Aveiro",
         "15518",
         "8319",
         "7448",
         "3182",
         "12585",
         "15767"
        ],
        [
         "14",
         "1501105",
         "Bagre",
         "13708",
         "12136",
         "11719",
         "10652",
         "13203",
         "23855"
        ],
        [
         "15",
         "1501204",
         "Baião",
         "21119",
         "19450",
         "17457",
         "18555",
         "18352",
         "36907"
        ],
        [
         "16",
         "1501253",
         "Bannach",
         "3780",
         "1849",
         "1585",
         "1284",
         "2150",
         "3434"
        ],
        [
         "17",
         "1501303",
         "Barcarena",
         "63268",
         "50379",
         "49421",
         "36357",
         "63443",
         "99800"
        ],
        [
         "18",
         "1501402",
         "Belém",
         "1280614",
         "658188",
         "733843",
         "1380836",
         "11195",
         "1392031"
        ],
        [
         "19",
         "1501451",
         "Belterra",
         "14594",
         "8483",
         "7841",
         "6853",
         "9471",
         "16324"
        ],
        [
         "20",
         "1501501",
         "Benevides",
         "35546",
         "25824",
         "25839",
         "28907",
         "22756",
         "51663"
        ],
        [
         "21",
         "1501576",
         "Bom Jesus do Tocantins",
         "13106",
         "8028",
         "7218",
         "8160",
         "7086",
         "15246"
        ],
        [
         "22",
         "1501600",
         "Bonito",
         "9814",
         "7114",
         "6516",
         "3827",
         "9803",
         "13630"
        ],
        [
         "23",
         "1501709",
         "Bragança",
         "93779",
         "57244",
         "55921",
         "72595",
         "40570",
         "113165"
        ],
        [
         "24",
         "1501725",
         "Brasil Novo",
         "17193",
         "9627",
         "8333",
         "6912",
         "11048",
         "17960"
        ],
        [
         "25",
         "1501758",
         "Brejo Grande do Araguaia",
         "7464",
         "3836",
         "3488",
         "4320",
         "3004",
         "7324"
        ],
        [
         "26",
         "1501782",
         "Breu Branco",
         "32446",
         "27090",
         "25407",
         "29303",
         "23194",
         "52497"
        ],
        [
         "27",
         "1501808",
         "Breves",
         "80158",
         "47780",
         "45085",
         "46561",
         "46304",
         "92865"
        ],
        [
         "28",
         "1501907",
         "Bujaru",
         "21032",
         "13338",
         "12362",
         "8099",
         "17601",
         "25700"
        ],
        [
         "29",
         "1502004",
         "Cachoeira do Arari",
         "15783",
         "10552",
         "9908",
         "7365",
         "13095",
         "20460"
        ],
        [
         "30",
         "1501956",
         "Cachoeira do Piriá",
         "15437",
         "13710",
         "12766",
         "5523",
         "20953",
         "26476"
        ],
        [
         "31",
         "1502103",
         "Cametá",
         "97624",
         "62023",
         "58881",
         "52846",
         "68058",
         "120904"
        ],
        [
         "32",
         "1502152",
         "Canaã dos Carajás",
         "10922",
         "13589",
         "13138",
         "20738",
         "5989",
         "26727"
        ],
        [
         "33",
         "1502202",
         "Capanema",
         "57119",
         "31496",
         "32132",
         "50736",
         "12892",
         "63628"
        ],
        [
         "34",
         "1502301",
         "Capitão Poço",
         "49769",
         "26618",
         "25281",
         "21447",
         "30452",
         "51899"
        ],
        [
         "35",
         "1502400",
         "Castanhal",
         "134496",
         "84421",
         "88675",
         "153321",
         "19775",
         "173096"
        ],
        [
         "36",
         "1502509",
         "Chaves",
         "17350",
         "11216",
         "9922",
         "2500",
         "18638",
         "21138"
        ],
        [
         "37",
         "1502608",
         "Colares",
         "10632",
         "5881",
         "5501",
         "3662",
         "7720",
         "11382"
        ],
        [
         "38",
         "1502707",
         "Conceição do Araguaia",
         "43386",
         "23313",
         "22217",
         "32452",
         "13078",
         "45530"
        ],
        [
         "39",
         "1502756",
         "Concórdia do Pará",
         "20956",
         "14591",
         "13630",
         "15091",
         "13130",
         "28221"
        ],
        [
         "40",
         "1502764",
         "Cumaru do Norte",
         "5978",
         "6087",
         "4391",
         "2737",
         "7741",
         "10478"
        ],
        [
         "41",
         "1502772",
         "Curionópolis",
         "19486",
         "9672",
         "8623",
         "12528",
         "5767",
         "18295"
        ],
        [
         "42",
         "1502806",
         "Curralinho",
         "20016",
         "15073",
         "13509",
         "10938",
         "17644",
         "28582"
        ],
        [
         "43",
         "1502855",
         "Curuá",
         "9224",
         "6456",
         "5806",
         "5781",
         "6481",
         "12262"
        ],
        [
         "44",
         "1502905",
         "Curuçá",
         "26160",
         "17647",
         "16843",
         "12210",
         "22280",
         "34490"
        ],
        [
         "45",
         "1502939",
         "Dom Eliseu",
         "39529",
         "26629",
         "24689",
         "32517",
         "18801",
         "51318"
        ],
        [
         "46",
         "1502954",
         "Eldorado dos Carajás",
         "29608",
         "16800",
         "14945",
         "16589",
         "15156",
         "31745"
        ],
        [
         "47",
         "1503002",
         "Faro",
         "10037",
         "4240",
         "3941",
         "6140",
         "2041",
         "8181"
        ],
        [
         "48",
         "1503044",
         "Floresta do Araguaia",
         "14284",
         "9549",
         "8276",
         "8736",
         "9089",
         "17825"
        ],
        [
         "49",
         "1503077",
         "Garrafão do Norte",
         "24221",
         "13112",
         "11939",
         "8614",
         "16437",
         "25051"
        ]
       ],
       "shape": {
        "columns": 8,
        "rows": 144
       }
      },
      "text/html": [
       "<div>\n",
       "<style scoped>\n",
       "    .dataframe tbody tr th:only-of-type {\n",
       "        vertical-align: middle;\n",
       "    }\n",
       "\n",
       "    .dataframe tbody tr th {\n",
       "        vertical-align: top;\n",
       "    }\n",
       "\n",
       "    .dataframe thead th {\n",
       "        text-align: right;\n",
       "    }\n",
       "</style>\n",
       "<table border=\"1\" class=\"dataframe\">\n",
       "  <thead>\n",
       "    <tr style=\"text-align: right;\">\n",
       "      <th></th>\n",
       "      <th>Código do município</th>\n",
       "      <th>Nome do município</th>\n",
       "      <th>Total da população 2000</th>\n",
       "      <th>Total de homens</th>\n",
       "      <th>Total de mulheres</th>\n",
       "      <th>Total da população urbana</th>\n",
       "      <th>Total da população rural</th>\n",
       "      <th>Total da população 2010</th>\n",
       "    </tr>\n",
       "  </thead>\n",
       "  <tbody>\n",
       "    <tr>\n",
       "      <th>0</th>\n",
       "      <td>1500107</td>\n",
       "      <td>Abaetetuba</td>\n",
       "      <td>119152</td>\n",
       "      <td>71612</td>\n",
       "      <td>69442</td>\n",
       "      <td>82950</td>\n",
       "      <td>58104</td>\n",
       "      <td>141054</td>\n",
       "    </tr>\n",
       "    <tr>\n",
       "      <th>1</th>\n",
       "      <td>1500131</td>\n",
       "      <td>Abel Figueiredo</td>\n",
       "      <td>5957</td>\n",
       "      <td>3542</td>\n",
       "      <td>3250</td>\n",
       "      <td>6046</td>\n",
       "      <td>746</td>\n",
       "      <td>6792</td>\n",
       "    </tr>\n",
       "    <tr>\n",
       "      <th>2</th>\n",
       "      <td>1500206</td>\n",
       "      <td>Acará</td>\n",
       "      <td>52126</td>\n",
       "      <td>28139</td>\n",
       "      <td>25466</td>\n",
       "      <td>12625</td>\n",
       "      <td>40980</td>\n",
       "      <td>53605</td>\n",
       "    </tr>\n",
       "    <tr>\n",
       "      <th>3</th>\n",
       "      <td>1500305</td>\n",
       "      <td>Afuá</td>\n",
       "      <td>29505</td>\n",
       "      <td>18449</td>\n",
       "      <td>16568</td>\n",
       "      <td>9478</td>\n",
       "      <td>25539</td>\n",
       "      <td>35017</td>\n",
       "    </tr>\n",
       "    <tr>\n",
       "      <th>4</th>\n",
       "      <td>1500347</td>\n",
       "      <td>Água Azul do Norte</td>\n",
       "      <td>22084</td>\n",
       "      <td>13618</td>\n",
       "      <td>11443</td>\n",
       "      <td>4876</td>\n",
       "      <td>20185</td>\n",
       "      <td>25061</td>\n",
       "    </tr>\n",
       "    <tr>\n",
       "      <th>...</th>\n",
       "      <td>...</td>\n",
       "      <td>...</td>\n",
       "      <td>...</td>\n",
       "      <td>...</td>\n",
       "      <td>...</td>\n",
       "      <td>...</td>\n",
       "      <td>...</td>\n",
       "      <td>...</td>\n",
       "    </tr>\n",
       "    <tr>\n",
       "      <th>139</th>\n",
       "      <td>1508209</td>\n",
       "      <td>Vigia</td>\n",
       "      <td>40176</td>\n",
       "      <td>24555</td>\n",
       "      <td>23347</td>\n",
       "      <td>32362</td>\n",
       "      <td>15540</td>\n",
       "      <td>47902</td>\n",
       "    </tr>\n",
       "    <tr>\n",
       "      <th>140</th>\n",
       "      <td>1508308</td>\n",
       "      <td>Viseu</td>\n",
       "      <td>51090</td>\n",
       "      <td>29794</td>\n",
       "      <td>26887</td>\n",
       "      <td>18392</td>\n",
       "      <td>38289</td>\n",
       "      <td>56681</td>\n",
       "    </tr>\n",
       "    <tr>\n",
       "      <th>141</th>\n",
       "      <td>1508357</td>\n",
       "      <td>Vitória do Xingu</td>\n",
       "      <td>11142</td>\n",
       "      <td>7294</td>\n",
       "      <td>6186</td>\n",
       "      <td>5361</td>\n",
       "      <td>8119</td>\n",
       "      <td>13480</td>\n",
       "    </tr>\n",
       "    <tr>\n",
       "      <th>142</th>\n",
       "      <td>1508407</td>\n",
       "      <td>Xinguara</td>\n",
       "      <td>35220</td>\n",
       "      <td>20572</td>\n",
       "      <td>20001</td>\n",
       "      <td>31492</td>\n",
       "      <td>9081</td>\n",
       "      <td>40573</td>\n",
       "    </tr>\n",
       "    <tr>\n",
       "      <th>143</th>\n",
       "      <td>Total</td>\n",
       "      <td>Pará</td>\n",
       "      <td>6192307</td>\n",
       "      <td>3825245</td>\n",
       "      <td>3762833</td>\n",
       "      <td>5197118</td>\n",
       "      <td>2390960</td>\n",
       "      <td>7588078</td>\n",
       "    </tr>\n",
       "  </tbody>\n",
       "</table>\n",
       "<p>144 rows × 8 columns</p>\n",
       "</div>"
      ],
      "text/plain": [
       "    Código do município   Nome do município  Total da população 2000  \\\n",
       "0               1500107          Abaetetuba                   119152   \n",
       "1               1500131     Abel Figueiredo                     5957   \n",
       "2               1500206               Acará                    52126   \n",
       "3               1500305                Afuá                    29505   \n",
       "4               1500347  Água Azul do Norte                    22084   \n",
       "..                  ...                 ...                      ...   \n",
       "139             1508209               Vigia                    40176   \n",
       "140             1508308               Viseu                    51090   \n",
       "141             1508357    Vitória do Xingu                    11142   \n",
       "142             1508407            Xinguara                    35220   \n",
       "143               Total                Pará                  6192307   \n",
       "\n",
       "     Total de homens  Total de mulheres  Total da população urbana  \\\n",
       "0              71612              69442                      82950   \n",
       "1               3542               3250                       6046   \n",
       "2              28139              25466                      12625   \n",
       "3              18449              16568                       9478   \n",
       "4              13618              11443                       4876   \n",
       "..               ...                ...                        ...   \n",
       "139            24555              23347                      32362   \n",
       "140            29794              26887                      18392   \n",
       "141             7294               6186                       5361   \n",
       "142            20572              20001                      31492   \n",
       "143          3825245            3762833                    5197118   \n",
       "\n",
       "     Total da população rural  Total da população 2010  \n",
       "0                       58104                   141054  \n",
       "1                         746                     6792  \n",
       "2                       40980                    53605  \n",
       "3                       25539                    35017  \n",
       "4                       20185                    25061  \n",
       "..                        ...                      ...  \n",
       "139                     15540                    47902  \n",
       "140                     38289                    56681  \n",
       "141                      8119                    13480  \n",
       "142                      9081                    40573  \n",
       "143                   2390960                  7588078  \n",
       "\n",
       "[144 rows x 8 columns]"
      ]
     },
     "execution_count": 4,
     "metadata": {},
     "output_type": "execute_result"
    }
   ],
   "source": [
    "pop2010_PA"
   ]
  },
  {
   "cell_type": "code",
   "execution_count": 5,
   "id": "8188d3cd",
   "metadata": {},
   "outputs": [
    {
     "data": {
      "text/plain": [
       "{'Eldorado do Carajás', 'Mojuí dos Campos', 'Santa Izabel do Pará'}"
      ]
     },
     "execution_count": 5,
     "metadata": {},
     "output_type": "execute_result"
    }
   ],
   "source": [
    "set(pop2024_PA['NOME DO MUNICÍPIO'].unique()) - set(pop2010_PA['Nome do município'].unique())"
   ]
  },
  {
   "cell_type": "code",
   "execution_count": 13,
   "id": "63f2b2c5",
   "metadata": {},
   "outputs": [
    {
     "data": {
      "application/vnd.microsoft.datawrangler.viewer.v0+json": {
       "columns": [
        {
         "name": "index",
         "rawType": "int64",
         "type": "integer"
        },
        {
         "name": "UF",
         "rawType": "object",
         "type": "string"
        },
        {
         "name": "COD. UF",
         "rawType": "float64",
         "type": "float"
        },
        {
         "name": "COD. MUNIC",
         "rawType": "float64",
         "type": "float"
        },
        {
         "name": "NOME DO MUNICÍPIO",
         "rawType": "object",
         "type": "string"
        },
        {
         "name": "POPULAÇÃO ESTIMADA",
         "rawType": "object",
         "type": "unknown"
        }
       ],
       "conversionMethod": "pd.DataFrame",
       "ref": "e4df3365-03c2-4878-8b51-95b5b1fab239",
       "rows": [
        [
         "151",
         "PA",
         "15.0",
         "107.0",
         "Abaetetuba",
         "150431"
        ],
        [
         "152",
         "PA",
         "15.0",
         "131.0",
         "Abel Figueiredo",
         "7126"
        ],
        [
         "153",
         "PA",
         "15.0",
         "206.0",
         "Acará",
         "54064"
        ],
        [
         "154",
         "PA",
         "15.0",
         "305.0",
         "Afuá",
         "37398"
        ],
        [
         "155",
         "PA",
         "15.0",
         "347.0",
         "Água Azul do Norte",
         "26305"
        ],
        [
         "156",
         "PA",
         "15.0",
         "404.0",
         "Alenquer",
         "54662"
        ],
        [
         "157",
         "PA",
         "15.0",
         "503.0",
         "Almeirim",
         "33372"
        ],
        [
         "158",
         "PA",
         "15.0",
         "602.0",
         "Altamira",
         "108382"
        ],
        [
         "159",
         "PA",
         "15.0",
         "701.0",
         "Anajás",
         "27540"
        ],
        [
         "160",
         "PA",
         "15.0",
         "800.0",
         "Ananindeua",
         "505404"
        ],
        [
         "161",
         "PA",
         "15.0",
         "859.0",
         "Anapu",
         "25414"
        ],
        [
         "162",
         "PA",
         "15.0",
         "909.0",
         "Augusto Corrêa",
         "43700"
        ],
        [
         "163",
         "PA",
         "15.0",
         "958.0",
         "Aurora do Pará",
         "29492"
        ],
        [
         "164",
         "PA",
         "15.0",
         "1006.0",
         "Aveiro",
         "15953"
        ],
        [
         "165",
         "PA",
         "15.0",
         "1105.0",
         "Bagre",
         "28292"
        ],
        [
         "166",
         "PA",
         "15.0",
         "1204.0",
         "Baião",
         "43757"
        ],
        [
         "167",
         "PA",
         "15.0",
         "1253.0",
         "Bannach",
         "3267"
        ],
        [
         "168",
         "PA",
         "15.0",
         "1303.0",
         "Barcarena",
         "115779"
        ],
        [
         "169",
         "PA",
         "15.0",
         "1402.0",
         "Belém",
         "1439561"
        ],
        [
         "170",
         "PA",
         "15.0",
         "1451.0",
         "Belterra",
         "17036"
        ],
        [
         "171",
         "PA",
         "15.0",
         "1501.0",
         "Benevides",
         "58637"
        ],
        [
         "172",
         "PA",
         "15.0",
         "1576.0",
         "Bom Jesus do Tocantins",
         "16227"
        ],
        [
         "173",
         "PA",
         "15.0",
         "1600.0",
         "Bonito",
         "15282"
        ],
        [
         "174",
         "PA",
         "15.0",
         "1709.0",
         "Bragança",
         "121528"
        ],
        [
         "175",
         "PA",
         "15.0",
         "1725.0",
         "Brasil Novo",
         "14984"
        ],
        [
         "176",
         "PA",
         "15.0",
         "1758.0",
         "Brejo Grande do Araguaia",
         "7232"
        ],
        [
         "177",
         "PA",
         "15.0",
         "1782.0",
         "Breu Branco",
         "61222"
        ],
        [
         "178",
         "PA",
         "15.0",
         "1808.0",
         "Breves",
         "98231"
        ],
        [
         "179",
         "PA",
         "15.0",
         "1907.0",
         "Bujaru",
         "27689"
        ],
        [
         "180",
         "PA",
         "15.0",
         "2004.0",
         "Cachoeira do Arari",
         "22449"
        ],
        [
         "181",
         "PA",
         "15.0",
         "1956.0",
         "Cachoeira do Piriá",
         "31300"
        ],
        [
         "182",
         "PA",
         "15.0",
         "2103.0",
         "Cametá",
         "130868"
        ],
        [
         "183",
         "PA",
         "15.0",
         "2152.0",
         "Canaã dos Carajás",
         "33632"
        ],
        [
         "184",
         "PA",
         "15.0",
         "2202.0",
         "Capanema",
         "66353"
        ],
        [
         "185",
         "PA",
         "15.0",
         "2301.0",
         "Capitão Poço",
         "52693"
        ],
        [
         "186",
         "PA",
         "15.0",
         "2400.0",
         "Castanhal",
         "189784"
        ],
        [
         "187",
         "PA",
         "15.0",
         "2509.0",
         "Chaves",
         "22566"
        ],
        [
         "188",
         "PA",
         "15.0",
         "2608.0",
         "Colares",
         "11682"
        ],
        [
         "189",
         "PA",
         "15.0",
         "2707.0",
         "Conceição do Araguaia",
         "46395"
        ],
        [
         "190",
         "PA",
         "15.0",
         "2756.0",
         "Concórdia do Pará",
         "31352"
        ],
        [
         "191",
         "PA",
         "15.0",
         "2764.0",
         "Cumaru do Norte",
         "12423"
        ],
        [
         "192",
         "PA",
         "15.0",
         "2772.0",
         "Curionópolis",
         "17709"
        ],
        [
         "193",
         "PA",
         "15.0",
         "2806.0",
         "Curralinho",
         "32248"
        ],
        [
         "194",
         "PA",
         "15.0",
         "2855.0",
         "Curuá",
         "13562"
        ],
        [
         "195",
         "PA",
         "15.0",
         "2905.0",
         "Curuçá",
         "37800"
        ],
        [
         "196",
         "PA",
         "15.0",
         "2939.0",
         "Dom Eliseu",
         "56398"
        ],
        [
         "197",
         "PA",
         "15.0",
         "2954.0",
         "Eldorado dos Carajás",
         "32664"
        ],
        [
         "198",
         "PA",
         "15.0",
         "3002.0",
         "Faro",
         "7333"
        ],
        [
         "199",
         "PA",
         "15.0",
         "3044.0",
         "Floresta do Araguaia",
         "19261"
        ],
        [
         "200",
         "PA",
         "15.0",
         "3077.0",
         "Garrafão do Norte",
         "25326"
        ]
       ],
       "shape": {
        "columns": 5,
        "rows": 144
       }
      },
      "text/html": [
       "<div>\n",
       "<style scoped>\n",
       "    .dataframe tbody tr th:only-of-type {\n",
       "        vertical-align: middle;\n",
       "    }\n",
       "\n",
       "    .dataframe tbody tr th {\n",
       "        vertical-align: top;\n",
       "    }\n",
       "\n",
       "    .dataframe thead th {\n",
       "        text-align: right;\n",
       "    }\n",
       "</style>\n",
       "<table border=\"1\" class=\"dataframe\">\n",
       "  <thead>\n",
       "    <tr style=\"text-align: right;\">\n",
       "      <th></th>\n",
       "      <th>UF</th>\n",
       "      <th>COD. UF</th>\n",
       "      <th>COD. MUNIC</th>\n",
       "      <th>NOME DO MUNICÍPIO</th>\n",
       "      <th>POPULAÇÃO ESTIMADA</th>\n",
       "    </tr>\n",
       "  </thead>\n",
       "  <tbody>\n",
       "    <tr>\n",
       "      <th>151</th>\n",
       "      <td>PA</td>\n",
       "      <td>15.0</td>\n",
       "      <td>107.0</td>\n",
       "      <td>Abaetetuba</td>\n",
       "      <td>150431</td>\n",
       "    </tr>\n",
       "    <tr>\n",
       "      <th>152</th>\n",
       "      <td>PA</td>\n",
       "      <td>15.0</td>\n",
       "      <td>131.0</td>\n",
       "      <td>Abel Figueiredo</td>\n",
       "      <td>7126</td>\n",
       "    </tr>\n",
       "    <tr>\n",
       "      <th>153</th>\n",
       "      <td>PA</td>\n",
       "      <td>15.0</td>\n",
       "      <td>206.0</td>\n",
       "      <td>Acará</td>\n",
       "      <td>54064</td>\n",
       "    </tr>\n",
       "    <tr>\n",
       "      <th>154</th>\n",
       "      <td>PA</td>\n",
       "      <td>15.0</td>\n",
       "      <td>305.0</td>\n",
       "      <td>Afuá</td>\n",
       "      <td>37398</td>\n",
       "    </tr>\n",
       "    <tr>\n",
       "      <th>155</th>\n",
       "      <td>PA</td>\n",
       "      <td>15.0</td>\n",
       "      <td>347.0</td>\n",
       "      <td>Água Azul do Norte</td>\n",
       "      <td>26305</td>\n",
       "    </tr>\n",
       "    <tr>\n",
       "      <th>...</th>\n",
       "      <td>...</td>\n",
       "      <td>...</td>\n",
       "      <td>...</td>\n",
       "      <td>...</td>\n",
       "      <td>...</td>\n",
       "    </tr>\n",
       "    <tr>\n",
       "      <th>290</th>\n",
       "      <td>PA</td>\n",
       "      <td>15.0</td>\n",
       "      <td>8159.0</td>\n",
       "      <td>Uruará</td>\n",
       "      <td>44486</td>\n",
       "    </tr>\n",
       "    <tr>\n",
       "      <th>291</th>\n",
       "      <td>PA</td>\n",
       "      <td>15.0</td>\n",
       "      <td>8209.0</td>\n",
       "      <td>Vigia</td>\n",
       "      <td>51173</td>\n",
       "    </tr>\n",
       "    <tr>\n",
       "      <th>292</th>\n",
       "      <td>PA</td>\n",
       "      <td>15.0</td>\n",
       "      <td>8308.0</td>\n",
       "      <td>Viseu</td>\n",
       "      <td>59054</td>\n",
       "    </tr>\n",
       "    <tr>\n",
       "      <th>293</th>\n",
       "      <td>PA</td>\n",
       "      <td>15.0</td>\n",
       "      <td>8357.0</td>\n",
       "      <td>Vitória do Xingu</td>\n",
       "      <td>14407</td>\n",
       "    </tr>\n",
       "    <tr>\n",
       "      <th>294</th>\n",
       "      <td>PA</td>\n",
       "      <td>15.0</td>\n",
       "      <td>8407.0</td>\n",
       "      <td>Xinguara</td>\n",
       "      <td>42833</td>\n",
       "    </tr>\n",
       "  </tbody>\n",
       "</table>\n",
       "<p>144 rows × 5 columns</p>\n",
       "</div>"
      ],
      "text/plain": [
       "     UF  COD. UF  COD. MUNIC   NOME DO MUNICÍPIO POPULAÇÃO ESTIMADA\n",
       "151  PA     15.0       107.0          Abaetetuba             150431\n",
       "152  PA     15.0       131.0     Abel Figueiredo               7126\n",
       "153  PA     15.0       206.0               Acará              54064\n",
       "154  PA     15.0       305.0                Afuá              37398\n",
       "155  PA     15.0       347.0  Água Azul do Norte              26305\n",
       "..   ..      ...         ...                 ...                ...\n",
       "290  PA     15.0      8159.0              Uruará              44486\n",
       "291  PA     15.0      8209.0               Vigia              51173\n",
       "292  PA     15.0      8308.0               Viseu              59054\n",
       "293  PA     15.0      8357.0    Vitória do Xingu              14407\n",
       "294  PA     15.0      8407.0            Xinguara              42833\n",
       "\n",
       "[144 rows x 5 columns]"
      ]
     },
     "execution_count": 13,
     "metadata": {},
     "output_type": "execute_result"
    }
   ],
   "source": [
    "pop2015_PA"
   ]
  }
 ],
 "metadata": {
  "kernelspec": {
   "display_name": ".venv",
   "language": "python",
   "name": "python3"
  },
  "language_info": {
   "codemirror_mode": {
    "name": "ipython",
    "version": 3
   },
   "file_extension": ".py",
   "mimetype": "text/x-python",
   "name": "python",
   "nbconvert_exporter": "python",
   "pygments_lexer": "ipython3",
   "version": "3.12.9"
  }
 },
 "nbformat": 4,
 "nbformat_minor": 5
}
